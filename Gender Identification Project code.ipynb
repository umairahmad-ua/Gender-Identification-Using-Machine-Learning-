{
 "cells": [
  {
   "cell_type": "markdown",
   "metadata": {
    "slideshow": {
     "slide_type": "-"
    }
   },
   "source": [
    "<center> <h1> Machine Learning Assignment</h1> </center>\n",
    "<center> <h1> Gender Identification using Scikit-Learn </h1> </center>\n",
    "<center> <h1> (Step-wise Tutorial)</h1> </center>\n",
    "<br><br><br>\n",
    "<center> <h1> Developed by Umair Ahmad </h1></center>"
   ]
  },
  {
   "cell_type": "markdown",
   "metadata": {},
   "source": [
    "**Overview**<br>\n",
    "The main objective of this tutorial is to provide the complete understanding of gender identification using Machine Learning toolkit (scikit-learn). In this tutorial, we are going to use the structured dataset about male and female. The dataset consists of set of input attributes (Height, Weight, Hair Length, Beard, Scarf) and ouput attribute (Male, Female). The task is to predict male and female from input attributes using Machine Learning algorithms. <br><br>\n",
    "**Machine Learning Approach:** <br>The problem of Gender Identication is treated as a supervised learning approach because we going to use the labelled dataset.<br><br> **The Input and Output are:**<br>\n",
    "<b> - Input:</b> Set of Attributes (Height, Weight, Hair Length, Beard, Scarf))<br><br>\n",
    "<b> - Output:</b> Gender (Male/Female)<br><br>\n",
    "<b> - Goal:</b> Learn from Input to predict Output<br><br>\n",
    "    \n",
    "<h3> Three Phases of Machine Learning: </h3><br><br>\n",
    "<b>1. Training Phase </b>– Learn from Training Dataset.<br><br>\n",
    "<b>2. Testing/Validation/Evaluation Phase</b> – Evaluate how well the algorithm learned.<br><br>\n",
    "<b>3. Application Phase</b>– Use your learned/trained models in real world application.<br><br>\n"
   ]
  },
  {
   "cell_type": "markdown",
   "metadata": {},
   "source": [
    "<center><h1> Table of Contents </h1></center>\n",
    "<h2>PHASE 1 & 2: TRAINING AND TESTING </h2>\n",
    "\n",
    "**Step 1:** Import Libraries<br><br>\n",
    "**Step 2:** Read, Understand and Pre-process Train/Test Data<br><br>\n",
    "**Step 2.1:** Read Data<br><br>\n",
    "**Step 2.2:** Understand Data<br><br>\n",
    "**Step 2.3:** Pre-process Data<br><br>\n",
    "**Step 3:** Label Encoding for Train/Test Data<br><br>\n",
    "**Step 4:** Feature Extraction – Changing Representation of features “from String to Feature-Vector”<br><br>\n",
    "**Step 5:** Train Machine Learning Algorithms using Training Data<br><br>\n",
    "**Step 6:** Evaluate Machine Learning Algorithms using Test Data<br><br>\n",
    "**Step 7:** Selection of Best Model<br><br><br><br>\n",
    "\n",
    "\n",
    "<h2> PHASE 3: APPLICATION PHASE</h2><br>\n",
    "**Step 8:** Application Phase<br><br>\n",
    "**Step 8.1:** Combine Dataset (Train + Test )¶<br><br>\n",
    "**Step 8.2:** Train Best Model (see Step 7) on all data(Train+Test)<br><br>\n",
    "**Step 8.3:** Save the Trained Model in Pickle File<br><br>\n",
    "**Step 9:** Make predictions on unseen/new data<br><br>\n",
    "**Step 9.1:** Load the Trained Model (saved in Step 8.3)<br><br>\n",
    "**Step 9.2:** Take Input from User<br><br>\n",
    "**Step 9.3:** Convert User Input into Feature Vector (Same as Feature Vector of Trained Model)<br><br>\n",
    "**Step 9.4:** Apply Trained Model on Feature Vector of Unseen Dataset and Output Prediction (Male/Female) to User\n"
   ]
  },
  {
   "cell_type": "markdown",
   "metadata": {},
   "source": [
    "# Step 1: Import Libraries"
   ]
  },
  {
   "cell_type": "code",
   "execution_count": 1,
   "metadata": {},
   "outputs": [],
   "source": [
    "import re\n",
    "import scipy\n",
    "import string\n",
    "import pickle\n",
    "import warnings\n",
    "import numpy as np\n",
    "import pandas as pd\n",
    "import matplotlib.pyplot as plt\n",
    "\n",
    "from sklearn.preprocessing import LabelEncoder            \n",
    "from sklearn.svm import LinearSVC             \n",
    "from sklearn.naive_bayes import BernoulliNB\n",
    "from sklearn.ensemble import RandomForestClassifier          \n",
    "from sklearn.linear_model import LogisticRegression\n",
    "from sklearn.metrics import accuracy_score\n",
    "from sklearn.preprocessing import OrdinalEncoder\n",
    "\n",
    "#from prettytable import PrettyTable   \n",
    "from astropy.table import Table, Column \n"
   ]
  },
  {
   "cell_type": "markdown",
   "metadata": {},
   "source": [
    "# Step 2: Read, Understand & Pre-process Train/Test Data"
   ]
  },
  {
   "cell_type": "code",
   "execution_count": 2,
   "metadata": {},
   "outputs": [
    {
     "name": "stdout",
     "output_type": "stream",
     "text": [
      " Train instances : 6\n",
      "=======================================\n",
      "\n",
      "\n",
      " Train Dataset :\n",
      "=======================================\n",
      "\n",
      "\n",
      "     height  weight    hair beard scarf  gender\n",
      "0  180.3000     196    Bald   Yes    No    Male\n",
      "1  170.0000     120    Long    No    No  Female\n",
      "2  178.5000     200   Short    No    No    Male\n",
      "3  163.4000     110  Medium    No   Yes  Female\n",
      "4  175.2222     220   Short   Yes    No    Male\n",
      "5  165.0000     150  Medium    No   Yes  Female\n",
      "\n",
      "Attributes Names in Train Dataset:\n",
      "==================================\n",
      "Index(['height', 'weight', 'hair', 'beard', 'scarf', 'gender'], dtype='object')\n"
     ]
    }
   ],
   "source": [
    "# Open a file to read\n",
    "train_dataset=pd.read_csv(\"Gender_Identification_train.csv\")\n",
    "count=len(train_dataset)\n",
    "print(\" Train instances :\",count)\n",
    "print(\"=======================================\\n\\n\")\n",
    "print(\" Train Dataset :\")\n",
    "print(\"=======================================\\n\\n\")\n",
    "print (train_dataset)\n",
    "print(\"\\nAttributes Names in Train Dataset:\\n==================================\")\n",
    "print(train_dataset.columns)"
   ]
  },
  {
   "cell_type": "code",
   "execution_count": 3,
   "metadata": {},
   "outputs": [
    {
     "name": "stdout",
     "output_type": "stream",
     "text": [
      " Test instances : 4\n",
      "=======================================\n",
      "\n",
      "\n",
      " Test Dataset :\n",
      "=======================================\n",
      "\n",
      "\n",
      "   height  weight    hair beard scarf  gender\n",
      "0   179.1     185    Long   Yes    No    Male\n",
      "1   160.5     130   Short    No    No  Female\n",
      "2   177.8     160    Bald    No    No    Male\n",
      "3   161.1     100  Medium    No    No  Female\n",
      "\n",
      "Attributes Names in Test Dataset:\n",
      "==================================\n",
      "Index(['height', 'weight', 'hair', 'beard', 'scarf', 'gender'], dtype='object')\n"
     ]
    }
   ],
   "source": [
    "# Open a file to read\n",
    "test_dataset=pd.read_csv(\"Gender_Identification_test.csv\")\n",
    "count=len(test_dataset)\n",
    "print(\" Test instances :\",count)\n",
    "print(\"=======================================\\n\\n\")\n",
    "print(\" Test Dataset :\")\n",
    "print(\"=======================================\\n\\n\")\n",
    "print (test_dataset)\n",
    "print(\"\\nAttributes Names in Test Dataset:\\n==================================\")\n",
    "print(test_dataset.columns)"
   ]
  },
  {
   "cell_type": "code",
   "execution_count": 4,
   "metadata": {},
   "outputs": [
    {
     "name": "stdout",
     "output_type": "stream",
     "text": [
      " Train male instances : 3\n",
      "=======================================\n",
      "\n",
      "\n",
      "     height  weight   hair beard scarf gender\n",
      "0  180.3000     196   Bald   Yes    No   Male\n",
      "2  178.5000     200  Short    No    No   Male\n",
      "4  175.2222     220  Short   Yes    No   Male\n",
      "\n",
      "\n",
      " Train Female instances : 3\n",
      "=======================================\n",
      "\n",
      "\n",
      "   height  weight    hair beard scarf  gender\n",
      "1   170.0     120    Long    No    No  Female\n",
      "3   163.4     110  Medium    No   Yes  Female\n",
      "5   165.0     150  Medium    No   Yes  Female\n"
     ]
    }
   ],
   "source": [
    "train_male_instance=train_dataset[train_dataset['gender']=='Male']\n",
    "count=len(train_male_instance)\n",
    "print(\" Train male instances :\",count)\n",
    "print(\"=======================================\\n\\n\")\n",
    "print(train_male_instance)\n",
    "\n",
    "train_female_instance=train_dataset[train_dataset['gender']=='Female']\n",
    "count=len(train_male_instance)\n",
    "print(\"\\n\\n Train Female instances :\",count)\n",
    "print(\"=======================================\\n\\n\")\n",
    "print(train_female_instance)"
   ]
  },
  {
   "cell_type": "code",
   "execution_count": 5,
   "metadata": {},
   "outputs": [
    {
     "name": "stdout",
     "output_type": "stream",
     "text": [
      " Test male instances : 2\n",
      "=======================================\n",
      "\n",
      "\n",
      "   height  weight  hair beard scarf gender\n",
      "0   179.1     185  Long   Yes    No   Male\n",
      "2   177.8     160  Bald    No    No   Male\n",
      "\n",
      "\n",
      " Test Female instances : 2\n",
      "=======================================\n",
      "\n",
      "\n",
      "   height  weight    hair beard scarf  gender\n",
      "1   160.5     130   Short    No    No  Female\n",
      "3   161.1     100  Medium    No    No  Female\n"
     ]
    }
   ],
   "source": [
    "test_male_instance=test_dataset[test_dataset['gender']=='Male']\n",
    "count=len(test_male_instance)\n",
    "print(\" Test male instances :\",count)\n",
    "print(\"=======================================\\n\\n\")\n",
    "print(test_male_instance)\n",
    "\n",
    "test_female_instance=test_dataset[test_dataset['gender']=='Female']\n",
    "count=len(test_male_instance)\n",
    "print(\"\\n\\n Test Female instances :\",count)\n",
    "print(\"=======================================\\n\\n\")\n",
    "print(test_female_instance)"
   ]
  },
  {
   "cell_type": "markdown",
   "metadata": {},
   "source": [
    "### Uderstanding Data via Graphs"
   ]
  },
  {
   "cell_type": "code",
   "execution_count": 6,
   "metadata": {},
   "outputs": [
    {
     "name": "stdout",
     "output_type": "stream",
     "text": [
      "Total number of 'Males' and 'Females' in Train Dataset:\n",
      "\n",
      "================================================================================\n"
     ]
    },
    {
     "data": {
      "image/png": "[encoded data removed]",
      "text/plain": [
       "<Figure size 432x288 with 1 Axes>"
      ]
     },
     "metadata": {
      "needs_background": "light"
     },
     "output_type": "display_data"
    }
   ],
   "source": [
    "print(\"Total number of 'Males' and 'Females' in Train Dataset:\\n\\n================================================================================\")\n",
    "train_dataset['gender'].value_counts().plot('bar')\n",
    "plt.show()"
   ]
  },
  {
   "cell_type": "code",
   "execution_count": 7,
   "metadata": {},
   "outputs": [
    {
     "name": "stdout",
     "output_type": "stream",
     "text": [
      "Total number of 'Males' and 'Females' in Test Dataset:\n",
      "\n",
      "================================================================================\n"
     ]
    },
    {
     "data": {
      "image/png": "[encoded data removed]",
      "text/plain": [
       "<Figure size 432x288 with 1 Axes>"
      ]
     },
     "metadata": {
      "needs_background": "light"
     },
     "output_type": "display_data"
    }
   ],
   "source": [
    "print(\"Total number of 'Males' and 'Females' in Test Dataset:\\n\\n================================================================================\")\n",
    "test_dataset['gender'].value_counts().plot('bar')\n",
    "plt.show()"
   ]
  },
  {
   "cell_type": "code",
   "execution_count": 8,
   "metadata": {},
   "outputs": [
    {
     "name": "stdout",
     "output_type": "stream",
     "text": [
      "Number of people having various hair length in Train dataset:\n",
      "\n",
      "================================================================================\n"
     ]
    },
    {
     "data": {
      "image/png": "[encoded data removed]",
      "text/plain": [
       "<Figure size 432x288 with 1 Axes>"
      ]
     },
     "metadata": {
      "needs_background": "light"
     },
     "output_type": "display_data"
    }
   ],
   "source": [
    "print(\"Number of people having various hair length in Train dataset:\\n\\n================================================================================\")\n",
    "train_dataset['hair'].value_counts().plot(kind='bar')\n",
    "plt.show()"
   ]
  },
  {
   "cell_type": "code",
   "execution_count": 9,
   "metadata": {},
   "outputs": [
    {
     "name": "stdout",
     "output_type": "stream",
     "text": [
      "Number of people having various hair length in Test dataset:\n",
      "\n",
      "================================================================================\n"
     ]
    },
    {
     "data": {
      "image/png": "[encoded data removed]",
      "text/plain": [
       "<Figure size 432x288 with 1 Axes>"
      ]
     },
     "metadata": {
      "needs_background": "light"
     },
     "output_type": "display_data"
    }
   ],
   "source": [
    "print(\"Number of people having various hair length in Test dataset:\\n\\n================================================================================\")\n",
    "test_dataset['hair'].value_counts().plot(kind='bar')\n",
    "plt.show()"
   ]
  },
  {
   "cell_type": "code",
   "execution_count": 10,
   "metadata": {},
   "outputs": [
    {
     "name": "stdout",
     "output_type": "stream",
     "text": [
      "Number of people have/haven't beard in Train dataset::\n",
      "\n",
      "================================================================================\n"
     ]
    },
    {
     "data": {
      "image/png": "[encoded data removed]",
      "text/plain": [
       "<Figure size 432x288 with 1 Axes>"
      ]
     },
     "metadata": {
      "needs_background": "light"
     },
     "output_type": "display_data"
    }
   ],
   "source": [
    "print(\"Number of people have/haven't beard in Train dataset::\\n\\n================================================================================\")\n",
    "train_dataset['beard'].value_counts().plot(kind='bar')\n",
    "plt.show()"
   ]
  },
  {
   "cell_type": "code",
   "execution_count": 11,
   "metadata": {},
   "outputs": [
    {
     "name": "stdout",
     "output_type": "stream",
     "text": [
      "Number of people have/haven't beard in Test dataset::\n",
      "\n",
      "================================================================================\n"
     ]
    },
    {
     "data": {
      "image/png": "[encoded data removed]",
      "text/plain": [
       "<Figure size 432x288 with 1 Axes>"
      ]
     },
     "metadata": {
      "needs_background": "light"
     },
     "output_type": "display_data"
    }
   ],
   "source": [
    "print(\"Number of people have/haven't beard in Test dataset::\\n\\n================================================================================\")\n",
    "test_dataset['beard'].value_counts().plot(kind='bar')\n",
    "plt.show()"
   ]
  },
  {
   "cell_type": "markdown",
   "metadata": {},
   "source": [
    "### Step 2.3: Pre-Process Data"
   ]
  },
  {
   "cell_type": "code",
   "execution_count": 12,
   "metadata": {},
   "outputs": [
    {
     "name": "stdout",
     "output_type": "stream",
     "text": [
      " Train data before pre-processing:\n",
      "=================================\n",
      "\n",
      "\n",
      "     height  weight    hair beard scarf  gender\n",
      "0  180.3000     196    Bald   Yes    No    Male\n",
      "1  170.0000     120    Long    No    No  Female\n",
      "2  178.5000     200   Short    No    No    Male\n",
      "3  163.4000     110  Medium    No   Yes  Female\n",
      "4  175.2222     220   Short   Yes    No    Male\n",
      "5  165.0000     150  Medium    No   Yes  Female\n",
      " \n",
      "\n",
      "Train data after pre-processing:\n",
      "=================================\n",
      "\n",
      "\n",
      "   height  weight    hair beard scarf  gender\n",
      "0  180.30     196    Bald   Yes    No    Male\n",
      "1  170.00     120    Long    No    No  Female\n",
      "2  178.50     200   Short    No    No    Male\n",
      "3  163.40     110  Medium    No   Yes  Female\n",
      "4  175.22     220   Short   Yes    No    Male\n",
      "5  165.00     150  Medium    No   Yes  Female\n"
     ]
    }
   ],
   "source": [
    "print(\" Train data before pre-processing:\")\n",
    "print(\"=================================\\n\\n\")\n",
    "print (train_dataset)\n",
    "train_dataset=train_dataset.round(2)\n",
    "print(\" \\n\\nTrain data after pre-processing:\")\n",
    "print(\"=================================\\n\\n\")\n",
    "print (train_dataset)"
   ]
  },
  {
   "cell_type": "markdown",
   "metadata": {},
   "source": [
    "# Step 3: Label Encoding for Test/Train Data"
   ]
  },
  {
   "cell_type": "markdown",
   "metadata": {},
   "source": [
    "#### Label encoding train dataset"
   ]
  },
  {
   "cell_type": "code",
   "execution_count": 13,
   "metadata": {},
   "outputs": [
    {
     "name": "stdout",
     "output_type": "stream",
     "text": [
      "Gender attribute Label Encoding in Train dataset:\n",
      "\n",
      "================================================\n",
      "\n",
      "   gender  encoded_gender\n",
      "0    Male               1\n",
      "1  Female               0\n",
      "2    Male               1\n",
      "3  Female               0\n",
      "4    Male               1\n",
      "5  Female               0\n",
      "\n",
      "\n",
      "\n",
      "Scarf attribute Label Encoding in Train dataset:\n",
      "\n",
      "================================================\n",
      "\n",
      "  scarf  encoded_scarf\n",
      "0    No              0\n",
      "1    No              0\n",
      "2    No              0\n",
      "3   Yes              1\n",
      "4    No              0\n",
      "5   Yes              1\n",
      "\n",
      "\n",
      "\n",
      "Beard attribute Label Encoding in Train dataset:\n",
      "\n",
      "================================================\n",
      "\n",
      "  beard  encoded_beard\n",
      "0   Yes              1\n",
      "1    No              0\n",
      "2    No              0\n",
      "3    No              0\n",
      "4   Yes              1\n",
      "5    No              0\n",
      "\n",
      "\n",
      "\n",
      "Hair attribute Label Encoding in Train dataset:\n",
      "\n",
      "================================================\n",
      "\n",
      "     hair  encoded_hair\n",
      "0    Bald             0\n",
      "1    Long             1\n",
      "2   Short             3\n",
      "3  Medium             2\n",
      "4   Short             3\n",
      "5  Medium             2\n"
     ]
    }
   ],
   "source": [
    "#Gender Label Encodeing\n",
    "print(\"Gender attribute Label Encoding in Train dataset:\\n\\n================================================\\n\")\n",
    "le = LabelEncoder()\n",
    "le.fit(train_dataset[\"gender\"])\n",
    "train_dataset['encoded_gender']=le.transform(train_dataset[\"gender\"])\n",
    "print(train_dataset[['gender','encoded_gender']])\n",
    "output = open('gender_encoder.pkl', 'wb')\n",
    "pickle.dump(le, output)\n",
    "output.close()\n",
    "\n",
    "#Scarf Label Encodeing\n",
    "print(\"\\n\\n\\nScarf attribute Label Encoding in Train dataset:\\n\\n================================================\\n\")\n",
    "le.fit(train_dataset[\"scarf\"])\n",
    "train_dataset['encoded_scarf']=le.transform(train_dataset[\"scarf\"])\n",
    "print(train_dataset[['scarf','encoded_scarf']])\n",
    "output = open('scarf_encoder.pkl', 'wb')\n",
    "pickle.dump(le, output)\n",
    "output.close()\n",
    "\n",
    "#Beard Label Encodeing\n",
    "print(\"\\n\\n\\nBeard attribute Label Encoding in Train dataset:\\n\\n================================================\\n\")\n",
    "le.fit(train_dataset[\"beard\"])\n",
    "train_dataset['encoded_beard']=le.transform(train_dataset[\"beard\"])\n",
    "print(train_dataset[['beard','encoded_beard']])\n",
    "output = open('beard_encoder.pkl', 'wb')\n",
    "pickle.dump(le, output)\n",
    "output.close()\n",
    "\n",
    "\n",
    "#hair Label Encodeing\n",
    "print(\"\\n\\n\\nHair attribute Label Encoding in Train dataset:\\n\\n================================================\\n\")\n",
    "le.fit(train_dataset[\"hair\"])\n",
    "train_dataset['encoded_hair']=le.transform(train_dataset[\"hair\"])\n",
    "print(train_dataset[['hair','encoded_hair']])\n",
    "output = open('hair_encoder.pkl', 'wb')\n",
    "pickle.dump(le, output)\n",
    "output.close()"
   ]
  },
  {
   "cell_type": "code",
   "execution_count": 14,
   "metadata": {},
   "outputs": [
    {
     "name": "stdout",
     "output_type": "stream",
     "text": [
      "Original Train Data:\n",
      "\n",
      "===============================================\n",
      "\n",
      "   height  weight    hair beard scarf  gender\n",
      "0  180.30     196    Bald   Yes    No    Male\n",
      "1  170.00     120    Long    No    No  Female\n",
      "2  178.50     200   Short    No    No    Male\n",
      "3  163.40     110  Medium    No   Yes  Female\n",
      "4  175.22     220   Short   Yes    No    Male\n",
      "5  165.00     150  Medium    No   Yes  Female\n",
      "\n",
      "\n",
      "Train Data after Label Encoding:\n",
      "\n",
      "===============================================\n",
      "\n",
      "   height  weight  encoded_hair  encoded_beard  encoded_scarf  encoded_gender\n",
      "0  180.30     196             0              1              0               1\n",
      "1  170.00     120             1              0              0               0\n",
      "2  178.50     200             3              0              0               1\n",
      "3  163.40     110             2              0              1               0\n",
      "4  175.22     220             3              1              0               1\n",
      "5  165.00     150             2              0              1               0\n"
     ]
    }
   ],
   "source": [
    "#Traning data comparsion after label encoding\n",
    "print(\"Original Train Data:\\n\\n===============================================\\n\")\n",
    "orignal_train_dataset=train_dataset[['height', 'weight' ,  'hair', 'beard','scarf','gender']]\n",
    "print(orignal_train_dataset)\n",
    "\n",
    "encoded_train_dataset=train_dataset[['height','weight' ,  'encoded_hair', 'encoded_beard','encoded_scarf','encoded_gender']]\n",
    "print(\"\\n\\nTrain Data after Label Encoding:\\n\\n===============================================\\n\")\n",
    "print(encoded_train_dataset)"
   ]
  },
  {
   "cell_type": "markdown",
   "metadata": {},
   "source": [
    "#### Label encoding test dataset"
   ]
  },
  {
   "cell_type": "code",
   "execution_count": 15,
   "metadata": {},
   "outputs": [
    {
     "name": "stdout",
     "output_type": "stream",
     "text": [
      "Original test Data:\n",
      "\n",
      "===============================================\n",
      "\n",
      "   height  weight    hair beard scarf  gender\n",
      "0   179.1     185    Long   Yes    No    Male\n",
      "1   160.5     130   Short    No    No  Female\n",
      "2   177.8     160    Bald    No    No    Male\n",
      "3   161.1     100  Medium    No    No  Female\n",
      "\n",
      "\n",
      "test Data after Label Encoding:\n",
      "\n",
      "===============================================\n",
      "\n",
      "   height  weight  encoded_hair  encoded_beard  encoded_scarf  encoded_gender\n",
      "0   179.1     185             1              1              0               1\n",
      "1   160.5     130             3              0              0               0\n",
      "2   177.8     160             0              0              0               1\n",
      "3   161.1     100             2              0              0               0\n"
     ]
    }
   ],
   "source": [
    "#Scarf Label Encodeing\n",
    "le.fit(test_dataset[\"scarf\"])\n",
    "test_dataset['encoded_scarf']=le.transform(test_dataset[\"scarf\"])\n",
    "\n",
    "\n",
    "#hair Label Encodeing\n",
    "le.fit(test_dataset[\"hair\"])\n",
    "test_dataset['encoded_hair']=le.transform(test_dataset[\"hair\"])\n",
    "\n",
    "\n",
    "#Beard Label Encodeing\n",
    "le.fit(test_dataset[\"beard\"])\n",
    "test_dataset['encoded_beard']=le.transform(test_dataset[\"beard\"])\n",
    "\n",
    "#Gender Label Encodeing\n",
    "le.fit(test_dataset[\"gender\"])\n",
    "test_dataset['encoded_gender']=le.transform(test_dataset[\"gender\"])\n",
    "\n",
    "#Testing data comparsion after label encoding\n",
    "print(\"Original test Data:\\n\\n===============================================\\n\")\n",
    "orignal_test_dataset=test_dataset[['height', 'weight' ,  'hair', 'beard','scarf','gender']]\n",
    "print(orignal_test_dataset)\n",
    "\n",
    "encoded_test_dataset=test_dataset[['height','weight' ,  'encoded_hair', 'encoded_beard','encoded_scarf','encoded_gender']]\n",
    "print(\"\\n\\ntest Data after Label Encoding:\\n\\n===============================================\\n\")\n",
    "print(encoded_test_dataset)"
   ]
  },
  {
   "cell_type": "markdown",
   "metadata": {},
   "source": [
    "# Step 4: Feature Extraction – Changing Representation of Data “from String to Vector”"
   ]
  },
  {
   "cell_type": "code",
   "execution_count": 16,
   "metadata": {},
   "outputs": [],
   "source": [
    "x_train=train_dataset[['height','weight' ,  'encoded_hair', 'encoded_beard','encoded_scarf']]\n",
    "y_train=train_dataset['encoded_gender']\n",
    "x_test=test_dataset[['height','weight' ,  'encoded_hair', 'encoded_beard','encoded_scarf']]\n",
    "y_test=test_dataset['encoded_gender']"
   ]
  },
  {
   "cell_type": "markdown",
   "metadata": {},
   "source": [
    "# Step 5: Train Machine Learning Algorithms using Training Data"
   ]
  },
  {
   "cell_type": "code",
   "execution_count": 17,
   "metadata": {},
   "outputs": [
    {
     "name": "stderr",
     "output_type": "stream",
     "text": [
      "C:\\Users\\Umair\\AppData\\Local\\Continuum\\anaconda3\\lib\\site-packages\\sklearn\\linear_model\\logistic.py:433: FutureWarning: Default solver will be changed to 'lbfgs' in 0.22. Specify a solver to silence this warning.\n",
      "  FutureWarning)\n"
     ]
    },
    {
     "data": {
      "text/plain": [
       "LogisticRegression(C=1.0, class_weight=None, dual=False, fit_intercept=True,\n",
       "          intercept_scaling=1, max_iter=100, multi_class='warn',\n",
       "          n_jobs=None, penalty='l2', random_state=None, solver='warn',\n",
       "          tol=0.0001, verbose=0, warm_start=False)"
      ]
     },
     "execution_count": 17,
     "metadata": {},
     "output_type": "execute_result"
    }
   ],
   "source": [
    "logisticRegr = LogisticRegression()\n",
    "logisticRegr.fit(x_train, y_train)"
   ]
  },
  {
   "cell_type": "code",
   "execution_count": 18,
   "metadata": {},
   "outputs": [
    {
     "name": "stderr",
     "output_type": "stream",
     "text": [
      "C:\\Users\\Umair\\AppData\\Local\\Continuum\\anaconda3\\lib\\site-packages\\sklearn\\ensemble\\forest.py:246: FutureWarning: The default value of n_estimators will change from 10 in version 0.20 to 100 in 0.22.\n",
      "  \"10 in version 0.20 to 100 in 0.22.\", FutureWarning)\n"
     ]
    },
    {
     "data": {
      "text/plain": [
       "RandomForestClassifier(bootstrap=True, class_weight=None, criterion='gini',\n",
       "            max_depth=None, max_features='auto', max_leaf_nodes=None,\n",
       "            min_impurity_decrease=0.0, min_impurity_split=None,\n",
       "            min_samples_leaf=1, min_samples_split=2,\n",
       "            min_weight_fraction_leaf=0.0, n_estimators=10, n_jobs=None,\n",
       "            oob_score=False, random_state=None, verbose=0,\n",
       "            warm_start=False)"
      ]
     },
     "execution_count": 18,
     "metadata": {},
     "output_type": "execute_result"
    }
   ],
   "source": [
    "RF_Classifier = RandomForestClassifier()\n",
    "RF_Classifier.fit(x_train, y_train)"
   ]
  },
  {
   "cell_type": "code",
   "execution_count": 19,
   "metadata": {},
   "outputs": [
    {
     "name": "stderr",
     "output_type": "stream",
     "text": [
      "C:\\Users\\Umair\\AppData\\Local\\Continuum\\anaconda3\\lib\\site-packages\\sklearn\\svm\\base.py:922: ConvergenceWarning: Liblinear failed to converge, increase the number of iterations.\n",
      "  \"the number of iterations.\", ConvergenceWarning)\n"
     ]
    },
    {
     "data": {
      "text/plain": [
       "LinearSVC(C=1.0, class_weight=None, dual=True, fit_intercept=True,\n",
       "     intercept_scaling=1, loss='squared_hinge', max_iter=1000,\n",
       "     multi_class='ovr', penalty='l2', random_state=None, tol=0.0001,\n",
       "     verbose=0)"
      ]
     },
     "execution_count": 19,
     "metadata": {},
     "output_type": "execute_result"
    }
   ],
   "source": [
    "svc=LinearSVC()\n",
    "svc.fit(x_train,y_train)"
   ]
  },
  {
   "cell_type": "code",
   "execution_count": 20,
   "metadata": {},
   "outputs": [
    {
     "data": {
      "text/plain": [
       "BernoulliNB(alpha=1.0, binarize=0.0, class_prior=None, fit_prior=True)"
      ]
     },
     "execution_count": 20,
     "metadata": {},
     "output_type": "execute_result"
    }
   ],
   "source": [
    "brnoulli=BernoulliNB()\n",
    "brnoulli.fit(x_train,y_train)"
   ]
  },
  {
   "cell_type": "markdown",
   "metadata": {},
   "source": [
    "# Step 6: Evaluate Machine Learning Algorithms using Test Data"
   ]
  },
  {
   "cell_type": "code",
   "execution_count": 21,
   "metadata": {},
   "outputs": [
    {
     "name": "stdout",
     "output_type": "stream",
     "text": [
      "Prediction using Logistic Regression:\n",
      "\n",
      "=====================================\n",
      "   height  weight    hair beard scarf  gender predicted_gender\n",
      "0   179.1     185    Long   Yes    No    Male             Male\n",
      "1   160.5     130   Short    No    No  Female           Female\n",
      "2   177.8     160    Bald    No    No    Male           Female\n",
      "3   161.1     100  Medium    No    No  Female           Female\n",
      "\n",
      "\n",
      "\n",
      "Accuracy score : \n",
      "\n",
      "===============\n",
      "0.75\n"
     ]
    }
   ],
   "source": [
    "print('Prediction using Logistic Regression:\\n\\n=====================================')\n",
    "predicted_result=logisticRegr.predict(x_test)\n",
    "LRaccuracy=accuracy_score(y_test, predicted_result)\n",
    "predicted_result=le.inverse_transform(predicted_result)\n",
    "real_result=le.inverse_transform(y_test)\n",
    "test_dataset['predicted_gender']=predicted_result\n",
    "print(test_dataset[['height', 'weight' ,  'hair', 'beard','scarf','gender','predicted_gender']])\n",
    "print('\\n\\n\\nAccuracy score : \\n\\n===============')\n",
    "print(LRaccuracy)"
   ]
  },
  {
   "cell_type": "code",
   "execution_count": 22,
   "metadata": {},
   "outputs": [
    {
     "name": "stdout",
     "output_type": "stream",
     "text": [
      "Prediction using RandomForestClassifier:\n",
      "\n",
      "=====================================\n",
      "   height  weight    hair beard scarf  gender predicted_gender\n",
      "0   179.1     185    Long   Yes    No    Male             Male\n",
      "1   160.5     130   Short    No    No  Female           Female\n",
      "2   177.8     160    Bald    No    No    Male           Female\n",
      "3   161.1     100  Medium    No    No  Female           Female\n",
      "\n",
      "\n",
      "\n",
      "Accuracy score : \n",
      "\n",
      "===============\n",
      "0.75\n"
     ]
    }
   ],
   "source": [
    "print('Prediction using RandomForestClassifier:\\n\\n=====================================')\n",
    "predicted_result=RF_Classifier.predict(x_test)\n",
    "RF_accuracy=accuracy_score(y_test, predicted_result)\n",
    "predicted_result=le.inverse_transform(predicted_result)\n",
    "real_result=le.inverse_transform(y_test)\n",
    "test_dataset['predicted_gender']=predicted_result\n",
    "print(test_dataset[['height', 'weight' ,  'hair', 'beard','scarf','gender','predicted_gender']])\n",
    "print('\\n\\n\\nAccuracy score : \\n\\n===============')\n",
    "print(RF_accuracy)"
   ]
  },
  {
   "cell_type": "code",
   "execution_count": 23,
   "metadata": {},
   "outputs": [
    {
     "name": "stdout",
     "output_type": "stream",
     "text": [
      "Prediction using Linear SVC:\n",
      "\n",
      "=====================================\n",
      "   height  weight    hair beard scarf  gender predicted_gender\n",
      "0   179.1     185    Long   Yes    No    Male             Male\n",
      "1   160.5     130   Short    No    No  Female           Female\n",
      "2   177.8     160    Bald    No    No    Male           Female\n",
      "3   161.1     100  Medium    No    No  Female           Female\n",
      "\n",
      "\n",
      "\n",
      "Accuracy score : \n",
      "\n",
      "===============\n",
      "0.75\n"
     ]
    }
   ],
   "source": [
    "print('Prediction using Linear SVC:\\n\\n=====================================')\n",
    "predicted_result=svc.predict(x_test)\n",
    "svc_accuracy=accuracy_score(y_test, predicted_result)\n",
    "predicted_result=le.inverse_transform(predicted_result)\n",
    "real_result=le.inverse_transform(y_test)\n",
    "test_dataset['predicted_gender']=predicted_result\n",
    "print(test_dataset[['height', 'weight' ,  'hair', 'beard','scarf','gender','predicted_gender']])\n",
    "print('\\n\\n\\nAccuracy score : \\n\\n===============')\n",
    "print(svc_accuracy)"
   ]
  },
  {
   "cell_type": "code",
   "execution_count": 24,
   "metadata": {},
   "outputs": [
    {
     "name": "stdout",
     "output_type": "stream",
     "text": [
      "Prediction using BernoulliNB:\n",
      "\n",
      "=====================================\n",
      "   height  weight    hair beard scarf  gender predicted_gender\n",
      "0   179.1     185    Long   Yes    No    Male             Male\n",
      "1   160.5     130   Short    No    No  Female           Female\n",
      "2   177.8     160    Bald    No    No    Male             Male\n",
      "3   161.1     100  Medium    No    No  Female           Female\n",
      "\n",
      "\n",
      "\n",
      "Accuracy score : \n",
      "\n",
      "===============\n",
      "1.0\n"
     ]
    }
   ],
   "source": [
    "print('Prediction using BernoulliNB:\\n\\n=====================================')\n",
    "predicted_result=brnoulli.predict(x_test)\n",
    "bernoulli_accuracy=accuracy_score(y_test, predicted_result)\n",
    "predicted_result=le.inverse_transform(predicted_result)\n",
    "real_result=le.inverse_transform(y_test)\n",
    "test_dataset['predicted_gender']=predicted_result\n",
    "print(test_dataset[['height', 'weight' ,  'hair', 'beard','scarf','gender','predicted_gender']])\n",
    "print('\\n\\n\\nAccuracy score : \\n\\n===============')\n",
    "print(bernoulli_accuracy)\n"
   ]
  },
  {
   "cell_type": "markdown",
   "metadata": {},
   "source": [
    "# Step 7: Selection of Best Model"
   ]
  },
  {
   "cell_type": "code",
   "execution_count": 25,
   "metadata": {},
   "outputs": [
    {
     "name": "stdout",
     "output_type": "stream",
     "text": [
      "Detailed Performance of all the models.\n",
      "=======================================\n",
      "\n",
      "+------------------------+----------+\n",
      "|         Model          | Accuracy |\n",
      "+------------------------+----------+\n",
      "|   LogisticRegression   |   0.75   |\n",
      "| RandomForestClassifier |   0.75   |\n",
      "|       LinearSVC        |   0.75   |\n",
      "|      BernoulliNB       |   1.0    |\n",
      "+------------------------+----------+\n",
      "\n",
      "\n",
      "Best Model.\n",
      "========================================\n",
      "+-------------+----------+\n",
      "|    Models   | Accuracy |\n",
      "+-------------+----------+\n",
      "| BernoulliNB |   1.0    |\n",
      "+-------------+----------+\n"
     ]
    }
   ],
   "source": [
    "models={\n",
    "    'LogisticRegression':LRaccuracy,\n",
    "    'RandomForestClassifier':RF_accuracy,\n",
    "    'LinearSVC':svc_accuracy,\n",
    "    'BernoulliNB':bernoulli_accuracy\n",
    "}\n",
    "s=\"\"\"Detailed Performance of all the models.\n",
    "=======================================\n",
    "\n",
    "+------------------------+----------+\n",
    "|         Model          | Accuracy |\n",
    "+------------------------+----------+\n",
    "|   LogisticRegression   |   0.75   |\n",
    "| RandomForestClassifier |   0.75   |\n",
    "|       LinearSVC        |   0.75   |\n",
    "|      BernoulliNB       |   1.0    |\n",
    "+------------------------+----------+\n",
    "\n",
    "\n",
    "Best Model.\n",
    "========================================\n",
    "+-------------+----------+\n",
    "|    Models   | Accuracy |\n",
    "+-------------+----------+\n",
    "| BernoulliNB |   1.0    |\n",
    "+-------------+----------+\"\"\"\n",
    "print(s)"
   ]
  },
  {
   "cell_type": "markdown",
   "metadata": {},
   "source": [
    "# PHASE 3: APPLICATION PHASE"
   ]
  },
  {
   "cell_type": "markdown",
   "metadata": {},
   "source": [
    "# Step 8: Application Phase"
   ]
  },
  {
   "cell_type": "markdown",
   "metadata": {},
   "source": [
    "### Step 8.1: Combine Data (Train+Test)"
   ]
  },
  {
   "cell_type": "code",
   "execution_count": 26,
   "metadata": {},
   "outputs": [
    {
     "name": "stdout",
     "output_type": "stream",
     "text": [
      "Train Features in form of Dataframe:\n",
      "=======================================\n",
      "   height  weight  encoded_hair  encoded_beard  encoded_scarf  encoded_gender\n",
      "0  180.30     196             0              1              0               1\n",
      "1  170.00     120             1              0              0               0\n",
      "2  178.50     200             3              0              0               1\n",
      "3  163.40     110             2              0              1               0\n",
      "4  175.22     220             3              1              0               1\n",
      "5  165.00     150             2              0              1               0\n"
     ]
    }
   ],
   "source": [
    "print(\"\"\"Train Features in form of Dataframe:\n",
    "=======================================\"\"\")\n",
    "print(encoded_train_dataset)"
   ]
  },
  {
   "cell_type": "code",
   "execution_count": 27,
   "metadata": {},
   "outputs": [
    {
     "name": "stdout",
     "output_type": "stream",
     "text": [
      "Test Features in form of Dataframe:\n",
      "=======================================\n",
      "   height  weight  encoded_hair  encoded_beard  encoded_scarf  encoded_gender\n",
      "0   179.1     185             1              1              0               1\n",
      "1   160.5     130             3              0              0               0\n",
      "2   177.8     160             0              0              0               1\n",
      "3   161.1     100             2              0              0               0\n"
     ]
    }
   ],
   "source": [
    "print(\"\"\"Test Features in form of Dataframe:\n",
    "=======================================\"\"\")\n",
    "print(encoded_test_dataset)"
   ]
  },
  {
   "cell_type": "code",
   "execution_count": 28,
   "metadata": {
    "scrolled": true
   },
   "outputs": [
    {
     "name": "stdout",
     "output_type": "stream",
     "text": [
      "All Train and Test Dataset Features in form of DataFrame:\n",
      "========================================================\n",
      "   height  weight  encoded_hair  encoded_beard  encoded_scarf  encoded_gender\n",
      "0  180.30     196             0              1              0               1\n",
      "1  170.00     120             1              0              0               0\n",
      "2  178.50     200             3              0              0               1\n",
      "3  163.40     110             2              0              1               0\n",
      "4  175.22     220             3              1              0               1\n",
      "5  165.00     150             2              0              1               0\n",
      "0  179.10     185             1              1              0               1\n",
      "1  160.50     130             3              0              0               0\n",
      "2  177.80     160             0              0              0               1\n",
      "3  161.10     100             2              0              0               0\n"
     ]
    }
   ],
   "source": [
    "print(\"\"\"All Train and Test Dataset Features in form of DataFrame:\n",
    "========================================================\"\"\")\n",
    "encoded_combine_dataset=pd.concat([encoded_train_dataset, encoded_test_dataset])\n",
    "print(encoded_combine_dataset)"
   ]
  },
  {
   "cell_type": "markdown",
   "metadata": {},
   "source": [
    "### Step 8.2: Train Best Model (see Step 7) on all features (Train+Test)"
   ]
  },
  {
   "cell_type": "code",
   "execution_count": 29,
   "metadata": {},
   "outputs": [
    {
     "name": "stdout",
     "output_type": "stream",
     "text": [
      "\n",
      "\n",
      "\n",
      "Accuracy score : \n",
      "\n",
      "===============\n",
      "1.0\n"
     ]
    }
   ],
   "source": [
    "x_train=encoded_combine_dataset[['height','weight' ,  'encoded_hair', 'encoded_beard','encoded_scarf']]\n",
    "y_train=encoded_combine_dataset['encoded_gender']\n",
    "brnoulli=BernoulliNB()\n",
    "brnoulli.fit(x_train,y_train)\n",
    "predicted_result=brnoulli.predict(x_test)\n",
    "bernoulli_accuracy=accuracy_score(y_test, predicted_result)\n",
    "print('\\n\\n\\nAccuracy score : \\n\\n===============')\n",
    "print(bernoulli_accuracy)"
   ]
  },
  {
   "cell_type": "markdown",
   "metadata": {},
   "source": [
    "### Step 8.3: Save the trained model in Pickle file "
   ]
  },
  {
   "cell_type": "code",
   "execution_count": 30,
   "metadata": {},
   "outputs": [],
   "source": [
    "filename = 'finalized_model.sav'\n",
    "pickle.dump(brnoulli, open(filename, 'wb'))"
   ]
  },
  {
   "cell_type": "markdown",
   "metadata": {},
   "source": [
    "# Step 9: Make prediction on unseen/new data"
   ]
  },
  {
   "cell_type": "markdown",
   "metadata": {},
   "source": [
    "### Step 9.1: Load the Trained Model (saved in Step 8.3) "
   ]
  },
  {
   "cell_type": "code",
   "execution_count": 31,
   "metadata": {},
   "outputs": [],
   "source": [
    "loaded_model = pickle.load(open(filename, 'rb'))\n",
    "beard_encoder = pickle.load(open('beard_encoder.pkl', 'rb'))\n",
    "scarf_encoder = pickle.load(open('scarf_encoder.pkl', 'rb'))\n",
    "hair_encoder = pickle.load(open('hair_encoder.pkl', 'rb'))"
   ]
  },
  {
   "cell_type": "markdown",
   "metadata": {},
   "source": [
    "### Step 9.2: Take Input from User"
   ]
  },
  {
   "cell_type": "code",
   "execution_count": 43,
   "metadata": {},
   "outputs": [
    {
     "name": "stdout",
     "output_type": "stream",
     "text": [
      "Please enter your Height here (centimeter):\n",
      "150\n",
      "Please enter your Weight here(kg):\n",
      "30\n",
      "Please enter your Hair Length here (Bald/Long/Short/Medium)\n",
      "Medium\n",
      "Do you have beard? (Yes/No)\n",
      "No\n",
      "Do you wear Scarf? (Yes/No)\n",
      "No\n"
     ]
    }
   ],
   "source": [
    "print(\"Please enter your Height here (centimeter):\")\n",
    "height=input()\n",
    "print(\"Please enter your Weight here(kg):\") \n",
    "weight=input()\n",
    "print(\"Please enter your Hair Length here (Bald/Long/Short/Medium)\")\n",
    "hair=input()\n",
    "print(\"Do you have beard? (Yes/No)\")\n",
    "beard=input()\n",
    "print(\"Do you wear Scarf? (Yes/No)\")\n",
    "scarf=input()\n"
   ]
  },
  {
   "cell_type": "markdown",
   "metadata": {},
   "source": [
    "### Step 9.3: Convert User Input into Feature Vector (Same as Feature Vector of Trained Model) "
   ]
  },
  {
   "cell_type": "code",
   "execution_count": 44,
   "metadata": {},
   "outputs": [
    {
     "name": "stdout",
     "output_type": "stream",
     "text": [
      "\n",
      "User input in Actual DataFrame form:\n",
      "====================================\n",
      "  height weight    hair beard scarf\n",
      "0    150     30  Medium    No    No\n"
     ]
    }
   ],
   "source": [
    "print(\"\"\"\n",
    "User input in Actual DataFrame form:\n",
    "====================================\"\"\")\n",
    "data = [[height,weight,hair,beard,scarf]] \n",
    "  \n",
    "# Create the pandas DataFrame \n",
    "df = pd.DataFrame(data, columns = ['height','weight','hair','beard','scarf'])\n",
    "print(df)"
   ]
  },
  {
   "cell_type": "code",
   "execution_count": 45,
   "metadata": {
    "scrolled": false
   },
   "outputs": [
    {
     "name": "stdout",
     "output_type": "stream",
     "text": [
      "\n",
      "User input in Actual DataFrame form:\n",
      "\n",
      "====================================\n",
      "  height weight    hair beard scarf\n",
      "0    150     30  Medium    No    No\n",
      "\n",
      "\n",
      "\n",
      "User input in Encoded DataFrame form:\n",
      "====================================\n",
      "\n",
      "\n",
      "  height weight  encoded_hair  encoded_beard  encoded_scarf\n",
      "0    150     30             2              0              0\n"
     ]
    }
   ],
   "source": [
    "print(\"\"\"\n",
    "User input in Actual DataFrame form:\n",
    "\n",
    "====================================\"\"\")\n",
    "print(df)\n",
    "print(\"\"\"\n",
    "\n",
    "\n",
    "User input in Encoded DataFrame form:\n",
    "====================================\n",
    "\n",
    "\"\"\")\n",
    "\n",
    "\n",
    "\n",
    "df['encoded_beard']=beard_encoder.transform(df[\"beard\"])\n",
    "\n",
    "df['encoded_hair']=hair_encoder.transform(df[\"hair\"])\n",
    "\n",
    "df['encoded_scarf']=scarf_encoder.transform(df[\"scarf\"])\n",
    "\n",
    "encoded_app_dataset=df[['height','weight' ,  'encoded_hair', 'encoded_beard','encoded_scarf']]\n",
    "print(encoded_app_dataset)"
   ]
  },
  {
   "cell_type": "markdown",
   "metadata": {},
   "source": [
    "### Step 9.4: Apply Trained Model on Feature Vector of Unseen Data and Output Prediction (Male/Female) to User"
   ]
  },
  {
   "cell_type": "code",
   "execution_count": 50,
   "metadata": {},
   "outputs": [
    {
     "name": "stdout",
     "output_type": "stream",
     "text": [
      "Accuracy= 1.0\n",
      "+--------------------------------+\n",
      "|        ** Prediction **        |\n",
      "+--------------------------------+\n",
      "|             female             |\n",
      "+--------------------------------+\n"
     ]
    }
   ],
   "source": [
    "predicted_result=brnoulli.predict(encoded_app_dataset)\n",
    "realresult=[0]\n",
    "Accuracy=accuracy_score(realresult, predicted_result)\n",
    "print(\"Accuracy=\",Accuracy)\n",
    "s=\"\"\"+--------------------------------+\n",
    "|        ** Prediction **        |\n",
    "+--------------------------------+\n",
    "|             result             |\n",
    "+--------------------------------+\"\"\"\n",
    "if(predicted_result==1):\n",
    "    result=\"male\"\n",
    "else:\n",
    "    result=\"female\"\n",
    "print(s.replace(\"result\",result))\n"
   ]
  },
  {
   "cell_type": "markdown",
   "metadata": {},
   "source": [
    "<center><h3> End of the Tutorial </h3></center>"
   ]
  }
 ],
 "metadata": {
  "kernelspec": {
   "display_name": "Python 3",
   "language": "python",
   "name": "python3"
  },
  "language_info": {
   "codemirror_mode": {
    "name": "ipython",
    "version": 3
   },
   "file_extension": ".py",
   "mimetype": "text/x-python",
   "name": "python",
   "nbconvert_exporter": "python",
   "pygments_lexer": "ipython3",
   "version": "3.7.1"
  }
 },
 "nbformat": 4,
 "nbformat_minor": 2
}
